{
 "cells": [
  {
   "cell_type": "code",
   "execution_count": 4,
   "id": "c7958e96",
   "metadata": {},
   "outputs": [],
   "source": [
    "import pandas as pd\n",
    "import numpy as np\n",
    "import matplotlib.pyplot as plt"
   ]
  },
  {
   "cell_type": "code",
   "execution_count": 50,
   "id": "c1dc5558",
   "metadata": {},
   "outputs": [],
   "source": [
    "worldDS = pd.read_csv('https://raw.githubusercontent.com/GabrielVCoutinho/Projeto-ICD-2022.2/main/DataSetsICD/1-World_cup2022.csv')"
   ]
  },
  {
   "cell_type": "markdown",
   "id": "0bcc9270",
   "metadata": {},
   "source": [
    "# Mediadas de disperção: <h1>"
   ]
  },
  {
   "cell_type": "markdown",
   "id": "39fb08d3",
   "metadata": {},
   "source": [
    "## Idades dos jogadores "
   ]
  },
  {
   "cell_type": "code",
   "execution_count": 28,
   "id": "cde0ab9b",
   "metadata": {},
   "outputs": [],
   "source": [
    "idade = worldDS['Age']"
   ]
  },
  {
   "cell_type": "code",
   "execution_count": 16,
   "id": "fe360a45",
   "metadata": {},
   "outputs": [
    {
     "data": {
      "text/plain": [
       "26.542986425339368"
      ]
     },
     "execution_count": 16,
     "metadata": {},
     "output_type": "execute_result"
    }
   ],
   "source": [
    "meanIdade = idade.mean()\n",
    "meanIdade"
   ]
  },
  {
   "cell_type": "code",
   "execution_count": 17,
   "id": "e64b7f45",
   "metadata": {},
   "outputs": [
    {
     "data": {
      "text/plain": [
       "0    24.0\n",
       "Name: Age, dtype: float64"
      ]
     },
     "execution_count": 17,
     "metadata": {},
     "output_type": "execute_result"
    }
   ],
   "source": [
    "modaIdade = idade.mode()\n",
    "modaIdade"
   ]
  },
  {
   "cell_type": "code",
   "execution_count": 18,
   "id": "a6bbda88",
   "metadata": {},
   "outputs": [
    {
     "data": {
      "text/plain": [
       "26.0"
      ]
     },
     "execution_count": 18,
     "metadata": {},
     "output_type": "execute_result"
    }
   ],
   "source": [
    "medianaIdade = idade.median()\n",
    "medianaIdade"
   ]
  },
  {
   "cell_type": "code",
   "execution_count": 21,
   "id": "dce481aa",
   "metadata": {},
   "outputs": [
    {
     "data": {
      "text/plain": [
       "16.566830017928815"
      ]
     },
     "execution_count": 21,
     "metadata": {},
     "output_type": "execute_result"
    }
   ],
   "source": [
    "varIdade = idade.var()\n",
    "varIdade"
   ]
  },
  {
   "cell_type": "code",
   "execution_count": 20,
   "id": "e939e184",
   "metadata": {},
   "outputs": [
    {
     "data": {
      "text/plain": [
       "4.070237096033696"
      ]
     },
     "execution_count": 20,
     "metadata": {},
     "output_type": "execute_result"
    }
   ],
   "source": [
    "desvIdade = idade.std()\n",
    "desvIdade"
   ]
  },
  {
   "cell_type": "code",
   "execution_count": 23,
   "id": "525211f5",
   "metadata": {},
   "outputs": [
    {
     "data": {
      "text/plain": [
       "<AxesSubplot:>"
      ]
     },
     "execution_count": 23,
     "metadata": {},
     "output_type": "execute_result"
    },
    {
     "data": {
      "image/png": "[encoded data removed]",
      "text/plain": [
       "<Figure size 432x288 with 1 Axes>"
      ]
     },
     "metadata": {
      "needs_background": "light"
     },
     "output_type": "display_data"
    }
   ],
   "source": [
    "worldDS.boxplot('Age')"
   ]
  },
  {
   "cell_type": "code",
   "execution_count": 24,
   "id": "88c10f88",
   "metadata": {},
   "outputs": [
    {
     "data": {
      "text/plain": [
       "<AxesSubplot:>"
      ]
     },
     "execution_count": 24,
     "metadata": {},
     "output_type": "execute_result"
    },
    {
     "data": {
      "image/png": "[encoded data removed]",
      "text/plain": [
       "<Figure size 432x288 with 1 Axes>"
      ]
     },
     "metadata": {
      "needs_background": "light"
     },
     "output_type": "display_data"
    }
   ],
   "source": [
    "idade.hist()"
   ]
  },
  {
   "cell_type": "markdown",
   "id": "2174ef4c",
   "metadata": {},
   "source": [
    "## Partidas jogadas"
   ]
  },
  {
   "cell_type": "code",
   "execution_count": 36,
   "id": "3d57900a",
   "metadata": {},
   "outputs": [],
   "source": [
    "PJ = worldDS['MP']"
   ]
  },
  {
   "cell_type": "code",
   "execution_count": 30,
   "id": "5c27ed67",
   "metadata": {},
   "outputs": [
    {
     "data": {
      "text/plain": [
       "4.128246753246753"
      ]
     },
     "execution_count": 30,
     "metadata": {},
     "output_type": "execute_result"
    }
   ],
   "source": [
    "meanPJ = PJ.mean()\n",
    "meanPJ"
   ]
  },
  {
   "cell_type": "code",
   "execution_count": 31,
   "id": "1b058cf4",
   "metadata": {},
   "outputs": [
    {
     "data": {
      "text/plain": [
       "3.0"
      ]
     },
     "execution_count": 31,
     "metadata": {},
     "output_type": "execute_result"
    }
   ],
   "source": [
    "medianaPJ = PJ.median()\n",
    "medianaPJ"
   ]
  },
  {
   "cell_type": "code",
   "execution_count": 32,
   "id": "9f958954",
   "metadata": {},
   "outputs": [
    {
     "data": {
      "text/plain": [
       "15.418145420785546"
      ]
     },
     "execution_count": 32,
     "metadata": {},
     "output_type": "execute_result"
    }
   ],
   "source": [
    "varPJ = PJ.var()\n",
    "varPJ"
   ]
  },
  {
   "cell_type": "code",
   "execution_count": 33,
   "id": "4e1155aa",
   "metadata": {},
   "outputs": [
    {
     "data": {
      "text/plain": [
       "3.926594634130896"
      ]
     },
     "execution_count": 33,
     "metadata": {},
     "output_type": "execute_result"
    }
   ],
   "source": [
    "desvPJ = PJ.std()\n",
    "desvPJ"
   ]
  },
  {
   "cell_type": "code",
   "execution_count": 34,
   "id": "396fb4ea",
   "metadata": {},
   "outputs": [
    {
     "data": {
      "text/plain": [
       "<AxesSubplot:>"
      ]
     },
     "execution_count": 34,
     "metadata": {},
     "output_type": "execute_result"
    },
    {
     "data": {
      "image/png": "[encoded data removed]",
      "text/plain": [
       "<Figure size 432x288 with 1 Axes>"
      ]
     },
     "metadata": {
      "needs_background": "light"
     },
     "output_type": "display_data"
    }
   ],
   "source": [
    "worldDS.boxplot('MP')"
   ]
  },
  {
   "cell_type": "code",
   "execution_count": 35,
   "id": "d3016394",
   "metadata": {},
   "outputs": [
    {
     "data": {
      "text/plain": [
       "<AxesSubplot:>"
      ]
     },
     "execution_count": 35,
     "metadata": {},
     "output_type": "execute_result"
    },
    {
     "data": {
      "image/png": "[encoded data removed]",
      "text/plain": [
       "<Figure size 432x288 with 1 Axes>"
      ]
     },
     "metadata": {
      "needs_background": "light"
     },
     "output_type": "display_data"
    }
   ],
   "source": [
    "PJ.hist()"
   ]
  },
  {
   "cell_type": "markdown",
   "id": "f2c20d7a",
   "metadata": {},
   "source": [
    "## Minutos jogados"
   ]
  },
  {
   "cell_type": "code",
   "execution_count": 39,
   "id": "c060a9c4",
   "metadata": {},
   "outputs": [
    {
     "data": {
      "text/plain": [
       "0       1513.0\n",
       "1       1395.0\n",
       "2       1305.0\n",
       "3       1079.0\n",
       "4       1043.0\n",
       "         ...  \n",
       "1324       NaN\n",
       "1325       NaN\n",
       "1326       NaN\n",
       "1327       NaN\n",
       "1328       NaN\n",
       "Name: Min_Playing_Time, Length: 1329, dtype: float64"
      ]
     },
     "execution_count": 39,
     "metadata": {},
     "output_type": "execute_result"
    }
   ],
   "source": [
    "MJ = worldDS['Min_Playing_Time']\n",
    "MJ"
   ]
  },
  {
   "cell_type": "code",
   "execution_count": 38,
   "id": "2ae5f3ce",
   "metadata": {},
   "outputs": [
    {
     "data": {
      "text/plain": [
       "330.8503717472119"
      ]
     },
     "execution_count": 38,
     "metadata": {},
     "output_type": "execute_result"
    }
   ],
   "source": [
    "meanMJ = MJ.mean()\n",
    "meanMJ"
   ]
  },
  {
   "cell_type": "code",
   "execution_count": 40,
   "id": "3f3765a1",
   "metadata": {},
   "outputs": [
    {
     "data": {
      "text/plain": [
       "0    90.0\n",
       "Name: Min_Playing_Time, dtype: float64"
      ]
     },
     "execution_count": 40,
     "metadata": {},
     "output_type": "execute_result"
    }
   ],
   "source": [
    "modaMJ = MJ.mode()\n",
    "modaMJ"
   ]
  },
  {
   "cell_type": "code",
   "execution_count": 41,
   "id": "f90fc839",
   "metadata": {},
   "outputs": [
    {
     "data": {
      "text/plain": [
       "230.0"
      ]
     },
     "execution_count": 41,
     "metadata": {},
     "output_type": "execute_result"
    }
   ],
   "source": [
    "medianaMJ = MJ.median()\n",
    "medianaMJ"
   ]
  },
  {
   "cell_type": "code",
   "execution_count": 42,
   "id": "d81ce4e1",
   "metadata": {},
   "outputs": [
    {
     "data": {
      "text/plain": [
       "97601.82038125674"
      ]
     },
     "execution_count": 42,
     "metadata": {},
     "output_type": "execute_result"
    }
   ],
   "source": [
    "varMJ = MJ.var()\n",
    "varMJ"
   ]
  },
  {
   "cell_type": "code",
   "execution_count": 43,
   "id": "180745e7",
   "metadata": {},
   "outputs": [
    {
     "data": {
      "text/plain": [
       "312.4129004718863"
      ]
     },
     "execution_count": 43,
     "metadata": {},
     "output_type": "execute_result"
    }
   ],
   "source": [
    "desvMJ = MJ.std()\n",
    "desvMJ"
   ]
  },
  {
   "cell_type": "code",
   "execution_count": 44,
   "id": "811ea830",
   "metadata": {},
   "outputs": [
    {
     "data": {
      "text/plain": [
       "<AxesSubplot:>"
      ]
     },
     "execution_count": 44,
     "metadata": {},
     "output_type": "execute_result"
    },
    {
     "data": {
      "image/png": "[encoded data removed]",
      "text/plain": [
       "<Figure size 432x288 with 1 Axes>"
      ]
     },
     "metadata": {
      "needs_background": "light"
     },
     "output_type": "display_data"
    }
   ],
   "source": [
    "worldDS.boxplot('Min_Playing_Time')"
   ]
  },
  {
   "cell_type": "markdown",
   "id": "2e97b751",
   "metadata": {},
   "source": [
    "## Minutos jogados a cada 90"
   ]
  },
  {
   "cell_type": "code",
   "execution_count": 51,
   "id": "93ed4d2e",
   "metadata": {},
   "outputs": [],
   "source": [
    "MJ90 = worldDS['Mins_Per_90_Playing_Time']"
   ]
  },
  {
   "cell_type": "code",
   "execution_count": 52,
   "id": "2a8a1b71",
   "metadata": {},
   "outputs": [
    {
     "data": {
      "text/plain": [
       "3.6761152416356873"
      ]
     },
     "execution_count": 52,
     "metadata": {},
     "output_type": "execute_result"
    }
   ],
   "source": [
    "meanMJ90 = MJ90.mean()\n",
    "meanMJ90"
   ]
  },
  {
   "cell_type": "code",
   "execution_count": 53,
   "id": "e5fd1eee",
   "metadata": {},
   "outputs": [
    {
     "data": {
      "text/plain": [
       "0    1.0\n",
       "Name: Mins_Per_90_Playing_Time, dtype: float64"
      ]
     },
     "execution_count": 53,
     "metadata": {},
     "output_type": "execute_result"
    }
   ],
   "source": [
    "modaMJ90 = MJ90.mode()\n",
    "modaMJ90"
   ]
  },
  {
   "cell_type": "code",
   "execution_count": 54,
   "id": "b82dca1d",
   "metadata": {},
   "outputs": [
    {
     "data": {
      "text/plain": [
       "2.6"
      ]
     },
     "execution_count": 54,
     "metadata": {},
     "output_type": "execute_result"
    }
   ],
   "source": [
    "medianaMJ90 = MJ90.median()\n",
    "medianaMJ90"
   ]
  },
  {
   "cell_type": "code",
   "execution_count": 55,
   "id": "4eca349f",
   "metadata": {},
   "outputs": [
    {
     "data": {
      "text/plain": [
       "12.056163871358208"
      ]
     },
     "execution_count": 55,
     "metadata": {},
     "output_type": "execute_result"
    }
   ],
   "source": [
    "varMJ90 = MJ90.var()\n",
    "varMJ90"
   ]
  },
  {
   "cell_type": "code",
   "execution_count": 56,
   "id": "a0bfedf7",
   "metadata": {},
   "outputs": [
    {
     "data": {
      "text/plain": [
       "3.4721987085070762"
      ]
     },
     "execution_count": 56,
     "metadata": {},
     "output_type": "execute_result"
    }
   ],
   "source": [
    "desvMJ90 = MJ90.std()\n",
    "desvMJ90"
   ]
  },
  {
   "cell_type": "code",
   "execution_count": 57,
   "id": "a97ebc76",
   "metadata": {},
   "outputs": [
    {
     "data": {
      "text/plain": [
       "<AxesSubplot:>"
      ]
     },
     "execution_count": 57,
     "metadata": {},
     "output_type": "execute_result"
    },
    {
     "data": {
      "image/png": "[encoded data removed]",
      "text/plain": [
       "<Figure size 432x288 with 1 Axes>"
      ]
     },
     "metadata": {
      "needs_background": "light"
     },
     "output_type": "display_data"
    }
   ],
   "source": [
    "worldDS.boxplot('Mins_Per_90_Playing_Time')"
   ]
  },
  {
   "cell_type": "code",
   "execution_count": null,
   "id": "3eebe2cd",
   "metadata": {},
   "outputs": [],
   "source": []
  }
 ],
 "metadata": {
  "kernelspec": {
   "display_name": "Python 3 (ipykernel)",
   "language": "python",
   "name": "python3"
  },
  "language_info": {
   "codemirror_mode": {
    "name": "ipython",
    "version": 3
   },
   "file_extension": ".py",
   "mimetype": "text/x-python",
   "name": "python",
   "nbconvert_exporter": "python",
   "pygments_lexer": "ipython3",
   "version": "3.9.12"
  }
 },
 "nbformat": 4,
 "nbformat_minor": 5
}
